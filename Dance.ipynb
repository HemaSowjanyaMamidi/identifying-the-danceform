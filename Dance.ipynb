{
  "nbformat": 4,
  "nbformat_minor": 0,
  "metadata": {
    "accelerator": "GPU",
    "colab": {
      "name": "Dance.ipynb",
      "provenance": [],
      "collapsed_sections": []
    },
    "kernelspec": {
      "display_name": "Python 3",
      "name": "python3"
    }
  },
  "cells": [
    {
      "cell_type": "code",
      "metadata": {
        "colab": {
          "base_uri": "https://localhost:8080/"
        },
        "id": "9Y-1hdfoAilR",
        "outputId": "bd7882ff-4b15-49c0-8c5e-bc84c86ff78a"
      },
      "source": [
        "!nvidia-smi"
      ],
      "execution_count": 1,
      "outputs": [
        {
          "output_type": "stream",
          "name": "stdout",
          "text": [
            "Mon Apr 25 13:44:33 2022       \n",
            "+-----------------------------------------------------------------------------+\n",
            "| NVIDIA-SMI 460.32.03    Driver Version: 460.32.03    CUDA Version: 11.2     |\n",
            "|-------------------------------+----------------------+----------------------+\n",
            "| GPU  Name        Persistence-M| Bus-Id        Disp.A | Volatile Uncorr. ECC |\n",
            "| Fan  Temp  Perf  Pwr:Usage/Cap|         Memory-Usage | GPU-Util  Compute M. |\n",
            "|                               |                      |               MIG M. |\n",
            "|===============================+======================+======================|\n",
            "|   0  Tesla T4            Off  | 00000000:00:04.0 Off |                    0 |\n",
            "| N/A   65C    P8    10W /  70W |      0MiB / 15109MiB |      0%      Default |\n",
            "|                               |                      |                  N/A |\n",
            "+-------------------------------+----------------------+----------------------+\n",
            "                                                                               \n",
            "+-----------------------------------------------------------------------------+\n",
            "| Processes:                                                                  |\n",
            "|  GPU   GI   CI        PID   Type   Process name                  GPU Memory |\n",
            "|        ID   ID                                                   Usage      |\n",
            "|=============================================================================|\n",
            "|  No running processes found                                                 |\n",
            "+-----------------------------------------------------------------------------+\n"
          ]
        }
      ]
    },
    {
      "cell_type": "markdown",
      "source": [
        "## Importing the libraries"
      ],
      "metadata": {
        "id": "JrqdgK--C2xs"
      }
    },
    {
      "cell_type": "code",
      "metadata": {
        "id": "7oSvSw4D9XFx"
      },
      "source": [
        "%matplotlib inline\n",
        "import numpy as np\n",
        "import matplotlib.pyplot as plt     \n",
        "import os\n",
        "import random\n",
        "import tensorflow as tf\n",
        "from tensorflow.keras.models import Sequential\n",
        "from tensorflow.keras.layers import Dense, Dropout, Activation, Flatten\n",
        "from tensorflow.keras.layers import Conv2D, MaxPooling2D,GlobalAveragePooling2D, AveragePooling2D\n",
        "from tensorflow.keras.preprocessing.image import ImageDataGenerator\n",
        "import cv2\n",
        "import pandas as pd"
      ],
      "execution_count": 2,
      "outputs": []
    },
    {
      "cell_type": "markdown",
      "source": [
        "## Mounting the drive"
      ],
      "metadata": {
        "id": "gbB1FF4xC6tf"
      }
    },
    {
      "cell_type": "code",
      "metadata": {
        "colab": {
          "base_uri": "https://localhost:8080/"
        },
        "id": "2gx91GSmPQUN",
        "outputId": "c82e5162-8d7d-4ae2-b40c-58aa7f161d98"
      },
      "source": [
        "from google.colab import drive\n",
        "drive.mount('/content/drive')"
      ],
      "execution_count": 12,
      "outputs": [
        {
          "output_type": "stream",
          "name": "stdout",
          "text": [
            "Mounted at /content/drive\n"
          ]
        }
      ]
    },
    {
      "cell_type": "markdown",
      "source": [
        "## Defining the paths"
      ],
      "metadata": {
        "id": "5LBQECC7C985"
      }
    },
    {
      "cell_type": "code",
      "metadata": {
        "id": "hL_9XFh3xr8I"
      },
      "source": [
        "data_root='/content/drive/My Drive/dance/images/'\n",
        "traincsv=pd.read_csv('/content/drive/My Drive/dance/images/train_labels.csv')\n",
        "testcsv=pd.read_csv('/content/drive/My Drive/dance/images/test_labels.csv')"
      ],
      "execution_count": 2,
      "outputs": []
    },
    {
      "cell_type": "code",
      "metadata": {
        "colab": {
          "base_uri": "https://localhost:8080/",
          "height": 363
        },
        "id": "yiP9W5wJP9e3",
        "outputId": "76cb9480-01a2-4a9e-dbe0-7a38c0e68d31"
      },
      "source": [
        "traincsv.head(10)"
      ],
      "execution_count": 3,
      "outputs": [
        {
          "output_type": "execute_result",
          "data": {
            "text/plain": [
              "     Image         target\n",
              "0   96.jpg       manipuri\n",
              "1  163.jpg  bharatanatyam\n",
              "2  450.jpg         odissi\n",
              "3  219.jpg      kathakali\n",
              "4  455.jpg         odissi\n",
              "5   46.jpg         kathak\n",
              "6  326.jpg       sattriya\n",
              "7  408.jpg      kuchipudi\n",
              "8  365.jpg       sattriya\n",
              "9  422.jpg      kuchipudi"
            ],
            "text/html": [
              "\n",
              "  <div id=\"df-b32e9783-6a65-4326-a3e4-e972c40821bc\">\n",
              "    <div class=\"colab-df-container\">\n",
              "      <div>\n",
              "<style scoped>\n",
              "    .dataframe tbody tr th:only-of-type {\n",
              "        vertical-align: middle;\n",
              "    }\n",
              "\n",
              "    .dataframe tbody tr th {\n",
              "        vertical-align: top;\n",
              "    }\n",
              "\n",
              "    .dataframe thead th {\n",
              "        text-align: right;\n",
              "    }\n",
              "</style>\n",
              "<table border=\"1\" class=\"dataframe\">\n",
              "  <thead>\n",
              "    <tr style=\"text-align: right;\">\n",
              "      <th></th>\n",
              "      <th>Image</th>\n",
              "      <th>target</th>\n",
              "    </tr>\n",
              "  </thead>\n",
              "  <tbody>\n",
              "    <tr>\n",
              "      <th>0</th>\n",
              "      <td>96.jpg</td>\n",
              "      <td>manipuri</td>\n",
              "    </tr>\n",
              "    <tr>\n",
              "      <th>1</th>\n",
              "      <td>163.jpg</td>\n",
              "      <td>bharatanatyam</td>\n",
              "    </tr>\n",
              "    <tr>\n",
              "      <th>2</th>\n",
              "      <td>450.jpg</td>\n",
              "      <td>odissi</td>\n",
              "    </tr>\n",
              "    <tr>\n",
              "      <th>3</th>\n",
              "      <td>219.jpg</td>\n",
              "      <td>kathakali</td>\n",
              "    </tr>\n",
              "    <tr>\n",
              "      <th>4</th>\n",
              "      <td>455.jpg</td>\n",
              "      <td>odissi</td>\n",
              "    </tr>\n",
              "    <tr>\n",
              "      <th>5</th>\n",
              "      <td>46.jpg</td>\n",
              "      <td>kathak</td>\n",
              "    </tr>\n",
              "    <tr>\n",
              "      <th>6</th>\n",
              "      <td>326.jpg</td>\n",
              "      <td>sattriya</td>\n",
              "    </tr>\n",
              "    <tr>\n",
              "      <th>7</th>\n",
              "      <td>408.jpg</td>\n",
              "      <td>kuchipudi</td>\n",
              "    </tr>\n",
              "    <tr>\n",
              "      <th>8</th>\n",
              "      <td>365.jpg</td>\n",
              "      <td>sattriya</td>\n",
              "    </tr>\n",
              "    <tr>\n",
              "      <th>9</th>\n",
              "      <td>422.jpg</td>\n",
              "      <td>kuchipudi</td>\n",
              "    </tr>\n",
              "  </tbody>\n",
              "</table>\n",
              "</div>\n",
              "      <button class=\"colab-df-convert\" onclick=\"convertToInteractive('df-b32e9783-6a65-4326-a3e4-e972c40821bc')\"\n",
              "              title=\"Convert this dataframe to an interactive table.\"\n",
              "              style=\"display:none;\">\n",
              "        \n",
              "  <svg xmlns=\"http://www.w3.org/2000/svg\" height=\"24px\"viewBox=\"0 0 24 24\"\n",
              "       width=\"24px\">\n",
              "    <path d=\"M0 0h24v24H0V0z\" fill=\"none\"/>\n",
              "    <path d=\"M18.56 5.44l.94 2.06.94-2.06 2.06-.94-2.06-.94-.94-2.06-.94 2.06-2.06.94zm-11 1L8.5 8.5l.94-2.06 2.06-.94-2.06-.94L8.5 2.5l-.94 2.06-2.06.94zm10 10l.94 2.06.94-2.06 2.06-.94-2.06-.94-.94-2.06-.94 2.06-2.06.94z\"/><path d=\"M17.41 7.96l-1.37-1.37c-.4-.4-.92-.59-1.43-.59-.52 0-1.04.2-1.43.59L10.3 9.45l-7.72 7.72c-.78.78-.78 2.05 0 2.83L4 21.41c.39.39.9.59 1.41.59.51 0 1.02-.2 1.41-.59l7.78-7.78 2.81-2.81c.8-.78.8-2.07 0-2.86zM5.41 20L4 18.59l7.72-7.72 1.47 1.35L5.41 20z\"/>\n",
              "  </svg>\n",
              "      </button>\n",
              "      \n",
              "  <style>\n",
              "    .colab-df-container {\n",
              "      display:flex;\n",
              "      flex-wrap:wrap;\n",
              "      gap: 12px;\n",
              "    }\n",
              "\n",
              "    .colab-df-convert {\n",
              "      background-color: #E8F0FE;\n",
              "      border: none;\n",
              "      border-radius: 50%;\n",
              "      cursor: pointer;\n",
              "      display: none;\n",
              "      fill: #1967D2;\n",
              "      height: 32px;\n",
              "      padding: 0 0 0 0;\n",
              "      width: 32px;\n",
              "    }\n",
              "\n",
              "    .colab-df-convert:hover {\n",
              "      background-color: #E2EBFA;\n",
              "      box-shadow: 0px 1px 2px rgba(60, 64, 67, 0.3), 0px 1px 3px 1px rgba(60, 64, 67, 0.15);\n",
              "      fill: #174EA6;\n",
              "    }\n",
              "\n",
              "    [theme=dark] .colab-df-convert {\n",
              "      background-color: #3B4455;\n",
              "      fill: #D2E3FC;\n",
              "    }\n",
              "\n",
              "    [theme=dark] .colab-df-convert:hover {\n",
              "      background-color: #434B5C;\n",
              "      box-shadow: 0px 1px 3px 1px rgba(0, 0, 0, 0.15);\n",
              "      filter: drop-shadow(0px 1px 2px rgba(0, 0, 0, 0.3));\n",
              "      fill: #FFFFFF;\n",
              "    }\n",
              "  </style>\n",
              "\n",
              "      <script>\n",
              "        const buttonEl =\n",
              "          document.querySelector('#df-b32e9783-6a65-4326-a3e4-e972c40821bc button.colab-df-convert');\n",
              "        buttonEl.style.display =\n",
              "          google.colab.kernel.accessAllowed ? 'block' : 'none';\n",
              "\n",
              "        async function convertToInteractive(key) {\n",
              "          const element = document.querySelector('#df-b32e9783-6a65-4326-a3e4-e972c40821bc');\n",
              "          const dataTable =\n",
              "            await google.colab.kernel.invokeFunction('convertToInteractive',\n",
              "                                                     [key], {});\n",
              "          if (!dataTable) return;\n",
              "\n",
              "          const docLinkHtml = 'Like what you see? Visit the ' +\n",
              "            '<a target=\"_blank\" href=https://colab.research.google.com/notebooks/data_table.ipynb>data table notebook</a>'\n",
              "            + ' to learn more about interactive tables.';\n",
              "          element.innerHTML = '';\n",
              "          dataTable['output_type'] = 'display_data';\n",
              "          await google.colab.output.renderOutput(dataTable, element);\n",
              "          const docLink = document.createElement('div');\n",
              "          docLink.innerHTML = docLinkHtml;\n",
              "          element.appendChild(docLink);\n",
              "        }\n",
              "      </script>\n",
              "    </div>\n",
              "  </div>\n",
              "  "
            ]
          },
          "metadata": {},
          "execution_count": 3
        }
      ]
    },
    {
      "cell_type": "code",
      "source": [
        "traincsv.shape"
      ],
      "metadata": {
        "colab": {
          "base_uri": "https://localhost:8080/"
        },
        "id": "JFV7l_idW3-4",
        "outputId": "001be4b0-a391-4a9f-ed3b-58ea01a063b5"
      },
      "execution_count": 4,
      "outputs": [
        {
          "output_type": "execute_result",
          "data": {
            "text/plain": [
              "(364, 2)"
            ]
          },
          "metadata": {},
          "execution_count": 4
        }
      ]
    },
    {
      "cell_type": "markdown",
      "source": [
        "## Creating separate folders for each dance form"
      ],
      "metadata": {
        "id": "Smfpiu32DDHt"
      }
    },
    {
      "cell_type": "code",
      "source": [
        "c=1\n",
        "for line in traincsv.values:\n",
        "  filename=line[0]\n",
        "  label=line[1]\n",
        "  print(filename,label)\n",
        "  src=os.path.join(data_root,'train',filename)\n",
        "  dest=os.path.join(data_root,'train_ds',label,filename)\n",
        "  if not label in os.listdir(os.path.join(data_root,'train_ds')):\n",
        "    os.makedirs(os.path.join(data_root,'train_ds',label))\n",
        "  im=cv2.imread(src)\n",
        "  if im is not None:\n",
        "    cv2.imwrite(dest,im)\n",
        "  c=c+1\n",
        "print(c)"
      ],
      "metadata": {
        "colab": {
          "base_uri": "https://localhost:8080/"
        },
        "id": "UWmMm0teNusG",
        "outputId": "889f27b0-3c85-4d76-eeaf-01e6225994cb"
      },
      "execution_count": 5,
      "outputs": [
        {
          "output_type": "stream",
          "name": "stdout",
          "text": [
            "96.jpg manipuri\n",
            "163.jpg bharatanatyam\n",
            "450.jpg odissi\n",
            "219.jpg kathakali\n",
            "455.jpg odissi\n",
            "46.jpg kathak\n",
            "326.jpg sattriya\n",
            "408.jpg kuchipudi\n",
            "365.jpg sattriya\n",
            "422.jpg kuchipudi\n",
            "397.jpg kuchipudi\n",
            "400.jpg kuchipudi\n",
            "32.jpg kathak\n",
            "350.jpg sattriya\n",
            "234.jpg kathakali\n",
            "492.jpg odissi\n",
            "333.jpg sattriya\n",
            "376.jpg kuchipudi\n",
            "103.jpg manipuri\n",
            "39.jpg kathak\n",
            "87.jpg manipuri\n",
            "155.jpg bharatanatyam\n",
            "388.jpg kuchipudi\n",
            "384.jpg kuchipudi\n",
            "248.jpg mohiniyattam\n",
            "494.jpg odissi\n",
            "47.jpg kathak\n",
            "488.jpg odissi\n",
            "462.jpg odissi\n",
            "347.jpg sattriya\n",
            "242.jpg kathakali\n",
            "16.jpg kathak\n",
            "178.jpg kathakali\n",
            "348.jpg sattriya\n",
            "164.jpg bharatanatyam\n",
            "2.jpg kathak\n",
            "141.jpg bharatanatyam\n",
            "187.jpg kathakali\n",
            "464.jpg odissi\n",
            "472.jpg odissi\n",
            "489.jpg odissi\n",
            "387.jpg kuchipudi\n",
            "109.jpg manipuri\n",
            "255.jpg mohiniyattam\n",
            "274.jpg mohiniyattam\n",
            "509.jpg odissi\n",
            "19.jpg kathak\n",
            "102.jpg manipuri\n",
            "24.jpg kathak\n",
            "294.jpg mohiniyattam\n",
            "501.jpg odissi\n",
            "335.jpg sattriya\n",
            "321.jpg sattriya\n",
            "480.jpg odissi\n",
            "393.jpg kuchipudi\n",
            "344.jpg sattriya\n",
            "259.jpg mohiniyattam\n",
            "76.jpg manipuri\n",
            "343.jpg sattriya\n",
            "4.jpg kathak\n",
            "486.jpg odissi\n",
            "361.jpg sattriya\n",
            "90.jpg manipuri\n",
            "231.jpg kathakali\n",
            "331.jpg sattriya\n",
            "243.jpg kathakali\n",
            "104.jpg manipuri\n",
            "113.jpg bharatanatyam\n",
            "21.jpg kathak\n",
            "15.jpg kathak\n",
            "370.jpg sattriya\n",
            "124.jpg bharatanatyam\n",
            "241.jpg kathakali\n",
            "56.jpg kathak\n",
            "296.jpg mohiniyattam\n",
            "81.jpg manipuri\n",
            "29.jpg kathak\n",
            "423.jpg kuchipudi\n",
            "445.jpg odissi\n",
            "406.jpg kuchipudi\n",
            "116.jpg bharatanatyam\n",
            "407.jpg kuchipudi\n",
            "118.jpg bharatanatyam\n",
            "367.jpg sattriya\n",
            "30.jpg kathak\n",
            "395.jpg kuchipudi\n",
            "265.jpg mohiniyattam\n",
            "73.jpg manipuri\n",
            "277.jpg mohiniyattam\n",
            "122.jpg bharatanatyam\n",
            "516.jpg odissi\n",
            "377.jpg kuchipudi\n",
            "513.jpg odissi\n",
            "405.jpg kuchipudi\n",
            "172.jpg bharatanatyam\n",
            "299.jpg mohiniyattam\n",
            "149.jpg bharatanatyam\n",
            "165.jpg bharatanatyam\n",
            "371.jpg sattriya\n",
            "18.jpg kathak\n",
            "213.jpg kathakali\n",
            "303.jpg mohiniyattam\n",
            "353.jpg sattriya\n",
            "135.jpg bharatanatyam\n",
            "481.jpg odissi\n",
            "3.jpg kathak\n",
            "329.jpg sattriya\n",
            "345.jpg sattriya\n",
            "443.jpg kuchipudi\n",
            "504.jpg odissi\n",
            "12.jpg kathak\n",
            "74.jpg manipuri\n",
            "185.jpg kathakali\n",
            "161.jpg bharatanatyam\n",
            "309.jpg mohiniyattam\n",
            "205.jpg kathakali\n",
            "379.jpg kuchipudi\n",
            "82.jpg manipuri\n",
            "276.jpg mohiniyattam\n",
            "154.jpg bharatanatyam\n",
            "254.jpg mohiniyattam\n",
            "26.jpg kathak\n",
            "181.jpg kathakali\n",
            "425.jpg kuchipudi\n",
            "131.jpg bharatanatyam\n",
            "272.jpg mohiniyattam\n",
            "117.jpg bharatanatyam\n",
            "252.jpg mohiniyattam\n",
            "180.jpg kathakali\n",
            "142.jpg bharatanatyam\n",
            "261.jpg mohiniyattam\n",
            "136.jpg bharatanatyam\n",
            "85.jpg manipuri\n",
            "88.jpg manipuri\n",
            "372.jpg sattriya\n",
            "279.jpg mohiniyattam\n",
            "313.jpg sattriya\n",
            "159.jpg bharatanatyam\n",
            "483.jpg odissi\n",
            "262.jpg mohiniyattam\n",
            "519.jpg odissi\n",
            "308.jpg mohiniyattam\n",
            "211.jpg kathakali\n",
            "497.jpg odissi\n",
            "325.jpg sattriya\n",
            "169.jpg bharatanatyam\n",
            "244.jpg mohiniyattam\n",
            "474.jpg odissi\n",
            "322.jpg sattriya\n",
            "94.jpg manipuri\n",
            "314.jpg sattriya\n",
            "356.jpg sattriya\n",
            "22.jpg kathak\n",
            "512.jpg odissi\n",
            "182.jpg kathakali\n",
            "156.jpg bharatanatyam\n",
            "289.jpg mohiniyattam\n",
            "25.jpg kathak\n",
            "436.jpg kuchipudi\n",
            "93.jpg manipuri\n",
            "336.jpg sattriya\n",
            "225.jpg kathakali\n",
            "298.jpg mohiniyattam\n",
            "214.jpg kathakali\n",
            "27.jpg kathak\n",
            "342.jpg sattriya\n",
            "273.jpg mohiniyattam\n",
            "133.jpg bharatanatyam\n",
            "168.jpg bharatanatyam\n",
            "409.jpg kuchipudi\n",
            "459.jpg odissi\n",
            "31.jpg kathak\n",
            "468.jpg odissi\n",
            "434.jpg kuchipudi\n",
            "312.jpg mohiniyattam\n",
            "383.jpg kuchipudi\n",
            "476.jpg odissi\n",
            "334.jpg sattriya\n",
            "151.jpg bharatanatyam\n",
            "166.jpg bharatanatyam\n",
            "227.jpg kathakali\n",
            "471.jpg odissi\n",
            "267.jpg mohiniyattam\n",
            "100.jpg manipuri\n",
            "446.jpg odissi\n",
            "208.jpg kathakali\n",
            "293.jpg mohiniyattam\n",
            "297.jpg mohiniyattam\n",
            "412.jpg kuchipudi\n",
            "58.jpg kathak\n",
            "288.jpg mohiniyattam\n",
            "105.jpg manipuri\n",
            "477.jpg odissi\n",
            "502.jpg odissi\n",
            "418.jpg kuchipudi\n",
            "233.jpg kathakali\n",
            "134.jpg bharatanatyam\n",
            "197.jpg kathakali\n",
            "245.jpg mohiniyattam\n",
            "176.jpg bharatanatyam\n",
            "203.jpg kathakali\n",
            "247.jpg mohiniyattam\n",
            "493.jpg odissi\n",
            "68.jpg manipuri\n",
            "442.jpg kuchipudi\n",
            "115.jpg bharatanatyam\n",
            "357.jpg sattriya\n",
            "389.jpg kuchipudi\n",
            "218.jpg kathakali\n",
            "263.jpg mohiniyattam\n",
            "184.jpg kathakali\n",
            "315.jpg sattriya\n",
            "295.jpg mohiniyattam\n",
            "42.jpg kathak\n",
            "427.jpg kuchipudi\n",
            "287.jpg mohiniyattam\n",
            "430.jpg kuchipudi\n",
            "359.jpg sattriya\n",
            "249.jpg mohiniyattam\n",
            "54.jpg kathak\n",
            "305.jpg mohiniyattam\n",
            "319.jpg sattriya\n",
            "496.jpg odissi\n",
            "60.jpg kathak\n",
            "37.jpg kathak\n",
            "192.jpg kathakali\n",
            "304.jpg mohiniyattam\n",
            "258.jpg mohiniyattam\n",
            "364.jpg sattriya\n",
            "49.jpg kathak\n",
            "144.jpg bharatanatyam\n",
            "7.jpg kathak\n",
            "98.jpg manipuri\n",
            "223.jpg kathakali\n",
            "320.jpg sattriya\n",
            "70.jpg manipuri\n",
            "426.jpg kuchipudi\n",
            "84.jpg manipuri\n",
            "44.jpg kathak\n",
            "177.jpg bharatanatyam\n",
            "50.jpg kathak\n",
            "417.jpg kuchipudi\n",
            "191.jpg kathakali\n",
            "221.jpg kathakali\n",
            "500.jpg odissi\n",
            "428.jpg kuchipudi\n",
            "137.jpg bharatanatyam\n",
            "195.jpg kathakali\n",
            "413.jpg kuchipudi\n",
            "228.jpg kathakali\n",
            "478.jpg odissi\n",
            "123.jpg bharatanatyam\n",
            "369.jpg sattriya\n",
            "328.jpg sattriya\n",
            "1.jpg kathak\n",
            "126.jpg bharatanatyam\n",
            "503.jpg odissi\n",
            "352.jpg sattriya\n",
            "120.jpg bharatanatyam\n",
            "452.jpg odissi\n",
            "339.jpg sattriya\n",
            "266.jpg mohiniyattam\n",
            "201.jpg kathakali\n",
            "229.jpg kathakali\n",
            "402.jpg kuchipudi\n",
            "381.jpg kuchipudi\n",
            "449.jpg odissi\n",
            "107.jpg manipuri\n",
            "444.jpg odissi\n",
            "327.jpg sattriya\n",
            "8.jpg kathak\n",
            "451.jpg odissi\n",
            "77.jpg manipuri\n",
            "148.jpg bharatanatyam\n",
            "399.jpg kuchipudi\n",
            "130.jpg bharatanatyam\n",
            "362.jpg sattriya\n",
            "310.jpg mohiniyattam\n",
            "79.jpg manipuri\n",
            "127.jpg bharatanatyam\n",
            "237.jpg kathakali\n",
            "257.jpg mohiniyattam\n",
            "160.jpg bharatanatyam\n",
            "52.jpg kathak\n",
            "190.jpg kathakali\n",
            "382.jpg kuchipudi\n",
            "143.jpg bharatanatyam\n",
            "199.jpg kathakali\n",
            "282.jpg mohiniyattam\n",
            "207.jpg kathakali\n",
            "403.jpg kuchipudi\n",
            "337.jpg sattriya\n",
            "355.jpg sattriya\n",
            "251.jpg mohiniyattam\n",
            "188.jpg kathakali\n",
            "338.jpg sattriya\n",
            "341.jpg sattriya\n",
            "433.jpg kuchipudi\n",
            "69.jpg manipuri\n",
            "236.jpg kathakali\n",
            "106.jpg manipuri\n",
            "99.jpg manipuri\n",
            "179.jpg kathakali\n",
            "204.jpg kathakali\n",
            "300.jpg mohiniyattam\n",
            "432.jpg kuchipudi\n",
            "490.jpg odissi\n",
            "368.jpg sattriya\n",
            "153.jpg bharatanatyam\n",
            "174.jpg bharatanatyam\n",
            "51.jpg kathak\n",
            "62.jpg kathak\n",
            "420.jpg kuchipudi\n",
            "75.jpg manipuri\n",
            "230.jpg kathakali\n",
            "307.jpg mohiniyattam\n",
            "212.jpg kathakali\n",
            "209.jpg kathakali\n",
            "415.jpg kuchipudi\n",
            "491.jpg odissi\n",
            "453.jpg odissi\n",
            "351.jpg sattriya\n",
            "111.jpg manipuri\n",
            "391.jpg kuchipudi\n",
            "515.jpg odissi\n",
            "65.jpg kathak\n",
            "240.jpg kathakali\n",
            "91.jpg manipuri\n",
            "222.jpg kathakali\n",
            "53.jpg kathak\n",
            "158.jpg bharatanatyam\n",
            "475.jpg odissi\n",
            "121.jpg bharatanatyam\n",
            "396.jpg kuchipudi\n",
            "63.jpg kathak\n",
            "268.jpg mohiniyattam\n",
            "78.jpg manipuri\n",
            "167.jpg bharatanatyam\n",
            "250.jpg mohiniyattam\n",
            "454.jpg odissi\n",
            "186.jpg kathakali\n",
            "499.jpg odissi\n",
            "101.jpg manipuri\n",
            "435.jpg kuchipudi\n",
            "469.jpg odissi\n",
            "139.jpg bharatanatyam\n",
            "83.jpg manipuri\n",
            "43.jpg kathak\n",
            "281.jpg mohiniyattam\n",
            "36.jpg kathak\n",
            "419.jpg kuchipudi\n",
            "66.jpg kathak\n",
            "260.jpg mohiniyattam\n",
            "466.jpg odissi\n",
            "140.jpg bharatanatyam\n",
            "5.jpg kathak\n",
            "10.jpg kathak\n",
            "235.jpg kathakali\n",
            "511.jpg odissi\n",
            "72.jpg manipuri\n",
            "253.jpg mohiniyattam\n",
            "404.jpg kuchipudi\n",
            "89.jpg manipuri\n",
            "311.jpg mohiniyattam\n",
            "365\n"
          ]
        }
      ]
    },
    {
      "cell_type": "code",
      "source": [
        "c"
      ],
      "metadata": {
        "colab": {
          "base_uri": "https://localhost:8080/"
        },
        "id": "GMLXhazMXg27",
        "outputId": "2db78230-6986-403c-bf05-62fa4325ed40"
      },
      "execution_count": 6,
      "outputs": [
        {
          "output_type": "execute_result",
          "data": {
            "text/plain": [
              "365"
            ]
          },
          "metadata": {},
          "execution_count": 6
        }
      ]
    },
    {
      "cell_type": "code",
      "metadata": {
        "id": "EhbVRqZYx3Hl"
      },
      "source": [
        "traindir='/content/drive/My Drive/dance/images/train_ds'\n",
        "testdir='/content/drive/My Drive/dance/images/test'"
      ],
      "execution_count": 3,
      "outputs": []
    },
    {
      "cell_type": "code",
      "metadata": {
        "id": "UD7ik7vNxr7W"
      },
      "source": [
        "img_shape=(224,224,3)\n",
        "img_width=224\n",
        "img_height=224"
      ],
      "execution_count": 4,
      "outputs": []
    },
    {
      "cell_type": "markdown",
      "source": [
        "## Data Augmentation"
      ],
      "metadata": {
        "id": "eprKK7LEDJYY"
      }
    },
    {
      "cell_type": "code",
      "metadata": {
        "id": "oEfrLO72w5bA"
      },
      "source": [
        "train_datagen = ImageDataGenerator(rescale=1.0/255.0,\n",
        "    rotation_range=20,\n",
        "\t\tzoom_range=0.15,\n",
        "\t\twidth_shift_range=0.2,\n",
        "    height_shift_range=0.2,\n",
        "    shear_range=0.2,\n",
        "\t\thorizontal_flip=True,\n",
        "    validation_split=0.2)\n",
        "\n",
        "test_datagen=ImageDataGenerator(rescale=1/255.0)"
      ],
      "execution_count": 5,
      "outputs": []
    },
    {
      "cell_type": "code",
      "metadata": {
        "colab": {
          "base_uri": "https://localhost:8080/"
        },
        "id": "AGFTAdbM7Duo",
        "outputId": "b22c4cce-6f4e-40a9-83c5-cf499df79875"
      },
      "source": [
        "train_generator=train_datagen.flow_from_directory(traindir,target_size=(img_height,img_width),batch_size=32,class_mode='categorical',subset='training',shuffle=True)"
      ],
      "execution_count": 6,
      "outputs": [
        {
          "output_type": "stream",
          "name": "stdout",
          "text": [
            "Found 283 images belonging to 8 classes.\n"
          ]
        }
      ]
    },
    {
      "cell_type": "code",
      "metadata": {
        "colab": {
          "base_uri": "https://localhost:8080/"
        },
        "id": "wlG3O311ygf6",
        "outputId": "a3af14b2-bfd8-4851-db78-0ae835f98586"
      },
      "source": [
        "validation_generator=train_datagen.flow_from_directory(traindir,target_size=(img_height,img_width),batch_size=32,class_mode='categorical',subset='validation',shuffle=True)"
      ],
      "execution_count": 7,
      "outputs": [
        {
          "output_type": "stream",
          "name": "stdout",
          "text": [
            "Found 69 images belonging to 8 classes.\n"
          ]
        }
      ]
    },
    {
      "cell_type": "code",
      "metadata": {
        "id": "A2hR0cnjE0lp"
      },
      "source": [
        ""
      ],
      "execution_count": 7,
      "outputs": []
    },
    {
      "cell_type": "markdown",
      "metadata": {
        "id": "pUMY9uhqF3iA"
      },
      "source": [
        "# Feature Extractor"
      ]
    },
    {
      "cell_type": "markdown",
      "metadata": {
        "id": "X9ns_n78L4nV"
      },
      "source": [
        "# VGG16"
      ]
    },
    {
      "cell_type": "code",
      "metadata": {
        "id": "JXHfVO2DF-dR"
      },
      "source": [
        "from keras.applications.vgg16 import VGG16\n",
        "\n",
        "base_model=VGG16(include_top=False,input_shape=(img_shape))"
      ],
      "execution_count": 8,
      "outputs": []
    },
    {
      "cell_type": "code",
      "metadata": {
        "id": "EJrbUMMJGhWJ"
      },
      "source": [
        "for layer in base_model.layers:\n",
        "  layer.trainable= False"
      ],
      "execution_count": 9,
      "outputs": []
    },
    {
      "cell_type": "code",
      "metadata": {
        "id": "T0teyFd3F-iU"
      },
      "source": [
        "model=Sequential()\n",
        "model.add(base_model)\n",
        "model.add(tf.keras.layers.GlobalAveragePooling2D())\n",
        "model.add(Dense(128,activation='relu'))\n",
        "model.add(Dropout(0.2))\n",
        "model.add(Dense(64,activation='relu'))\n",
        "model.add(Dropout(0.2))\n",
        "model.add(Dense(32,activation='relu'))\n",
        "model.add(Dense(8,activation='softmax'))"
      ],
      "execution_count": 10,
      "outputs": []
    },
    {
      "cell_type": "code",
      "metadata": {
        "colab": {
          "base_uri": "https://localhost:8080/"
        },
        "id": "0XjhmcElF-m0",
        "outputId": "77ad049b-d4cd-4e3a-c7e9-60167a924466"
      },
      "source": [
        "model.summary()"
      ],
      "execution_count": 11,
      "outputs": [
        {
          "output_type": "stream",
          "name": "stdout",
          "text": [
            "Model: \"sequential\"\n",
            "_________________________________________________________________\n",
            " Layer (type)                Output Shape              Param #   \n",
            "=================================================================\n",
            " vgg16 (Functional)          (None, 7, 7, 512)         14714688  \n",
            "                                                                 \n",
            " global_average_pooling2d (G  (None, 512)              0         \n",
            " lobalAveragePooling2D)                                          \n",
            "                                                                 \n",
            " dense (Dense)               (None, 128)               65664     \n",
            "                                                                 \n",
            " dropout (Dropout)           (None, 128)               0         \n",
            "                                                                 \n",
            " dense_1 (Dense)             (None, 64)                8256      \n",
            "                                                                 \n",
            " dropout_1 (Dropout)         (None, 64)                0         \n",
            "                                                                 \n",
            " dense_2 (Dense)             (None, 32)                2080      \n",
            "                                                                 \n",
            " dense_3 (Dense)             (None, 8)                 264       \n",
            "                                                                 \n",
            "=================================================================\n",
            "Total params: 14,790,952\n",
            "Trainable params: 76,264\n",
            "Non-trainable params: 14,714,688\n",
            "_________________________________________________________________\n"
          ]
        }
      ]
    },
    {
      "cell_type": "code",
      "source": [
        "learning_rate = 0.001\n",
        "lr_decay = 1e-6\n",
        "lr_drop = 25\n",
        "\n",
        "def lr_scheduler(epoch):\n",
        "  return learning_rate * (0.5 ** (epoch // lr_drop))\n",
        "reduce_lr = tf.keras.callbacks.LearningRateScheduler(lr_scheduler)\n",
        "# sgd = tf.keras.optimizers.SGD(learning_rate=learning_rate, decay=lr_decay, momentum=0.9, nesterov=True)"
      ],
      "metadata": {
        "id": "qrwjaXfbr4qC"
      },
      "execution_count": 12,
      "outputs": []
    },
    {
      "cell_type": "code",
      "metadata": {
        "id": "dxfISSHMF-rC"
      },
      "source": [
        "model.compile(optimizer='adam',loss='categorical_crossentropy',metrics=['accuracy'])"
      ],
      "execution_count": 13,
      "outputs": []
    },
    {
      "cell_type": "code",
      "metadata": {
        "colab": {
          "base_uri": "https://localhost:8080/"
        },
        "id": "3mrXnvaiF-wj",
        "outputId": "33687884-d399-41e4-9c3b-e18581b40d95"
      },
      "source": [
        "history=model.fit(train_generator,epochs=200,steps_per_epoch=len(train_generator),validation_data=validation_generator,validation_steps=len(validation_generator),callbacks=[reduce_lr])"
      ],
      "execution_count": 14,
      "outputs": [
        {
          "output_type": "stream",
          "name": "stdout",
          "text": [
            "Epoch 1/200\n",
            "9/9 [==============================] - 15s 1s/step - loss: 2.1064 - accuracy: 0.1343 - val_loss: 2.0722 - val_accuracy: 0.1449 - lr: 0.0010\n",
            "Epoch 2/200\n",
            "9/9 [==============================] - 7s 807ms/step - loss: 2.0686 - accuracy: 0.1555 - val_loss: 2.0487 - val_accuracy: 0.1594 - lr: 0.0010\n",
            "Epoch 3/200\n",
            "9/9 [==============================] - 6s 644ms/step - loss: 2.0591 - accuracy: 0.1837 - val_loss: 2.0469 - val_accuracy: 0.1594 - lr: 0.0010\n",
            "Epoch 4/200\n",
            "9/9 [==============================] - 6s 649ms/step - loss: 2.0506 - accuracy: 0.1837 - val_loss: 2.0229 - val_accuracy: 0.2174 - lr: 0.0010\n",
            "Epoch 5/200\n",
            "9/9 [==============================] - 6s 640ms/step - loss: 2.0289 - accuracy: 0.2085 - val_loss: 2.0024 - val_accuracy: 0.3188 - lr: 0.0010\n",
            "Epoch 6/200\n",
            "9/9 [==============================] - 6s 636ms/step - loss: 2.0078 - accuracy: 0.2261 - val_loss: 1.9760 - val_accuracy: 0.3043 - lr: 0.0010\n",
            "Epoch 7/200\n",
            "9/9 [==============================] - 6s 633ms/step - loss: 1.9605 - accuracy: 0.2191 - val_loss: 1.9369 - val_accuracy: 0.2609 - lr: 0.0010\n",
            "Epoch 8/200\n",
            "9/9 [==============================] - 6s 642ms/step - loss: 1.9071 - accuracy: 0.2862 - val_loss: 1.9087 - val_accuracy: 0.3188 - lr: 0.0010\n",
            "Epoch 9/200\n",
            "9/9 [==============================] - 6s 637ms/step - loss: 1.8724 - accuracy: 0.3004 - val_loss: 1.8550 - val_accuracy: 0.3333 - lr: 0.0010\n",
            "Epoch 10/200\n",
            "9/9 [==============================] - 6s 633ms/step - loss: 1.8057 - accuracy: 0.3428 - val_loss: 1.7988 - val_accuracy: 0.3478 - lr: 0.0010\n",
            "Epoch 11/200\n",
            "9/9 [==============================] - 6s 635ms/step - loss: 1.7438 - accuracy: 0.3463 - val_loss: 1.7499 - val_accuracy: 0.4348 - lr: 0.0010\n",
            "Epoch 12/200\n",
            "9/9 [==============================] - 6s 629ms/step - loss: 1.7293 - accuracy: 0.3463 - val_loss: 1.7689 - val_accuracy: 0.3478 - lr: 0.0010\n",
            "Epoch 13/200\n",
            "9/9 [==============================] - 6s 644ms/step - loss: 1.7096 - accuracy: 0.3498 - val_loss: 1.7071 - val_accuracy: 0.3623 - lr: 0.0010\n",
            "Epoch 14/200\n",
            "9/9 [==============================] - 6s 641ms/step - loss: 1.6487 - accuracy: 0.3993 - val_loss: 1.6284 - val_accuracy: 0.4348 - lr: 0.0010\n",
            "Epoch 15/200\n",
            "9/9 [==============================] - 6s 639ms/step - loss: 1.6160 - accuracy: 0.4099 - val_loss: 1.7046 - val_accuracy: 0.3913 - lr: 0.0010\n",
            "Epoch 16/200\n",
            "9/9 [==============================] - 6s 639ms/step - loss: 1.5933 - accuracy: 0.3675 - val_loss: 1.6273 - val_accuracy: 0.4203 - lr: 0.0010\n",
            "Epoch 17/200\n",
            "9/9 [==============================] - 6s 635ms/step - loss: 1.5350 - accuracy: 0.3993 - val_loss: 1.6490 - val_accuracy: 0.3623 - lr: 0.0010\n",
            "Epoch 18/200\n",
            "9/9 [==============================] - 6s 636ms/step - loss: 1.4977 - accuracy: 0.4382 - val_loss: 1.5942 - val_accuracy: 0.4058 - lr: 0.0010\n",
            "Epoch 19/200\n",
            "9/9 [==============================] - 6s 654ms/step - loss: 1.4946 - accuracy: 0.4417 - val_loss: 1.5370 - val_accuracy: 0.5072 - lr: 0.0010\n",
            "Epoch 20/200\n",
            "9/9 [==============================] - 6s 636ms/step - loss: 1.5054 - accuracy: 0.4276 - val_loss: 1.6006 - val_accuracy: 0.4493 - lr: 0.0010\n",
            "Epoch 21/200\n",
            "9/9 [==============================] - 6s 639ms/step - loss: 1.4245 - accuracy: 0.4735 - val_loss: 1.4933 - val_accuracy: 0.4493 - lr: 0.0010\n",
            "Epoch 22/200\n",
            "9/9 [==============================] - 6s 638ms/step - loss: 1.3980 - accuracy: 0.4841 - val_loss: 1.5066 - val_accuracy: 0.4638 - lr: 0.0010\n",
            "Epoch 23/200\n",
            "9/9 [==============================] - 6s 639ms/step - loss: 1.3582 - accuracy: 0.4982 - val_loss: 1.4815 - val_accuracy: 0.5072 - lr: 0.0010\n",
            "Epoch 24/200\n",
            "9/9 [==============================] - 6s 653ms/step - loss: 1.2915 - accuracy: 0.5371 - val_loss: 1.3743 - val_accuracy: 0.5072 - lr: 0.0010\n",
            "Epoch 25/200\n",
            "9/9 [==============================] - 6s 656ms/step - loss: 1.2908 - accuracy: 0.5477 - val_loss: 1.3716 - val_accuracy: 0.5652 - lr: 0.0010\n",
            "Epoch 26/200\n",
            "9/9 [==============================] - 6s 646ms/step - loss: 1.2412 - accuracy: 0.5618 - val_loss: 1.3601 - val_accuracy: 0.5507 - lr: 5.0000e-04\n",
            "Epoch 27/200\n",
            "9/9 [==============================] - 6s 642ms/step - loss: 1.2610 - accuracy: 0.5760 - val_loss: 1.4189 - val_accuracy: 0.4783 - lr: 5.0000e-04\n",
            "Epoch 28/200\n",
            "9/9 [==============================] - 6s 641ms/step - loss: 1.1638 - accuracy: 0.5936 - val_loss: 1.2744 - val_accuracy: 0.5072 - lr: 5.0000e-04\n",
            "Epoch 29/200\n",
            "9/9 [==============================] - 6s 647ms/step - loss: 1.2236 - accuracy: 0.5336 - val_loss: 1.3989 - val_accuracy: 0.5942 - lr: 5.0000e-04\n",
            "Epoch 30/200\n",
            "9/9 [==============================] - 6s 645ms/step - loss: 1.1569 - accuracy: 0.5972 - val_loss: 1.3002 - val_accuracy: 0.4928 - lr: 5.0000e-04\n",
            "Epoch 31/200\n",
            "9/9 [==============================] - 6s 634ms/step - loss: 1.1472 - accuracy: 0.5866 - val_loss: 1.2535 - val_accuracy: 0.5942 - lr: 5.0000e-04\n",
            "Epoch 32/200\n",
            "9/9 [==============================] - 6s 652ms/step - loss: 1.1611 - accuracy: 0.5830 - val_loss: 1.2746 - val_accuracy: 0.5652 - lr: 5.0000e-04\n",
            "Epoch 33/200\n",
            "9/9 [==============================] - 6s 666ms/step - loss: 1.1300 - accuracy: 0.5830 - val_loss: 1.2698 - val_accuracy: 0.5652 - lr: 5.0000e-04\n",
            "Epoch 34/200\n",
            "9/9 [==============================] - 6s 657ms/step - loss: 1.1702 - accuracy: 0.6042 - val_loss: 1.2934 - val_accuracy: 0.5797 - lr: 5.0000e-04\n",
            "Epoch 35/200\n",
            "9/9 [==============================] - 6s 641ms/step - loss: 1.0866 - accuracy: 0.5936 - val_loss: 1.2330 - val_accuracy: 0.6377 - lr: 5.0000e-04\n",
            "Epoch 36/200\n",
            "9/9 [==============================] - 6s 635ms/step - loss: 1.0865 - accuracy: 0.6113 - val_loss: 1.2173 - val_accuracy: 0.5362 - lr: 5.0000e-04\n",
            "Epoch 37/200\n",
            "9/9 [==============================] - 6s 650ms/step - loss: 1.0706 - accuracy: 0.6184 - val_loss: 1.1679 - val_accuracy: 0.6087 - lr: 5.0000e-04\n",
            "Epoch 38/200\n",
            "9/9 [==============================] - 6s 634ms/step - loss: 1.1163 - accuracy: 0.5689 - val_loss: 1.2223 - val_accuracy: 0.6087 - lr: 5.0000e-04\n",
            "Epoch 39/200\n",
            "9/9 [==============================] - 6s 635ms/step - loss: 1.0378 - accuracy: 0.6360 - val_loss: 1.2416 - val_accuracy: 0.5652 - lr: 5.0000e-04\n",
            "Epoch 40/200\n",
            "9/9 [==============================] - 6s 637ms/step - loss: 0.9961 - accuracy: 0.6537 - val_loss: 1.1932 - val_accuracy: 0.6232 - lr: 5.0000e-04\n",
            "Epoch 41/200\n",
            "9/9 [==============================] - 6s 642ms/step - loss: 0.9857 - accuracy: 0.6749 - val_loss: 1.2181 - val_accuracy: 0.5652 - lr: 5.0000e-04\n",
            "Epoch 42/200\n",
            "9/9 [==============================] - 6s 631ms/step - loss: 1.0169 - accuracy: 0.6290 - val_loss: 1.1492 - val_accuracy: 0.5797 - lr: 5.0000e-04\n",
            "Epoch 43/200\n",
            "9/9 [==============================] - 6s 638ms/step - loss: 0.9844 - accuracy: 0.6643 - val_loss: 1.1878 - val_accuracy: 0.5797 - lr: 5.0000e-04\n",
            "Epoch 44/200\n",
            "9/9 [==============================] - 6s 641ms/step - loss: 1.0332 - accuracy: 0.6325 - val_loss: 1.1815 - val_accuracy: 0.6522 - lr: 5.0000e-04\n",
            "Epoch 45/200\n",
            "9/9 [==============================] - 6s 639ms/step - loss: 0.9956 - accuracy: 0.6184 - val_loss: 1.1649 - val_accuracy: 0.6377 - lr: 5.0000e-04\n",
            "Epoch 46/200\n",
            "9/9 [==============================] - 6s 642ms/step - loss: 0.9417 - accuracy: 0.6643 - val_loss: 1.0582 - val_accuracy: 0.6377 - lr: 5.0000e-04\n",
            "Epoch 47/200\n",
            "9/9 [==============================] - 6s 654ms/step - loss: 0.9618 - accuracy: 0.6643 - val_loss: 1.0732 - val_accuracy: 0.6087 - lr: 5.0000e-04\n",
            "Epoch 48/200\n",
            "9/9 [==============================] - 6s 637ms/step - loss: 0.9585 - accuracy: 0.7032 - val_loss: 1.1863 - val_accuracy: 0.5797 - lr: 5.0000e-04\n",
            "Epoch 49/200\n",
            "9/9 [==============================] - 6s 641ms/step - loss: 0.9100 - accuracy: 0.7102 - val_loss: 1.3050 - val_accuracy: 0.5942 - lr: 5.0000e-04\n",
            "Epoch 50/200\n",
            "9/9 [==============================] - 6s 643ms/step - loss: 0.9067 - accuracy: 0.6855 - val_loss: 1.1211 - val_accuracy: 0.6522 - lr: 5.0000e-04\n",
            "Epoch 51/200\n",
            "9/9 [==============================] - 6s 639ms/step - loss: 0.9201 - accuracy: 0.6784 - val_loss: 1.1026 - val_accuracy: 0.6377 - lr: 2.5000e-04\n",
            "Epoch 52/200\n",
            "9/9 [==============================] - 6s 635ms/step - loss: 0.9384 - accuracy: 0.6502 - val_loss: 1.2256 - val_accuracy: 0.5942 - lr: 2.5000e-04\n",
            "Epoch 53/200\n",
            "9/9 [==============================] - 6s 652ms/step - loss: 0.9470 - accuracy: 0.6926 - val_loss: 1.1651 - val_accuracy: 0.5942 - lr: 2.5000e-04\n",
            "Epoch 54/200\n",
            "9/9 [==============================] - 6s 624ms/step - loss: 0.8837 - accuracy: 0.6749 - val_loss: 1.0858 - val_accuracy: 0.6522 - lr: 2.5000e-04\n",
            "Epoch 55/200\n",
            "9/9 [==============================] - 6s 642ms/step - loss: 0.8793 - accuracy: 0.6961 - val_loss: 1.0298 - val_accuracy: 0.7246 - lr: 2.5000e-04\n",
            "Epoch 56/200\n",
            "9/9 [==============================] - 6s 639ms/step - loss: 0.9152 - accuracy: 0.6608 - val_loss: 1.1523 - val_accuracy: 0.6232 - lr: 2.5000e-04\n",
            "Epoch 57/200\n",
            "9/9 [==============================] - 6s 643ms/step - loss: 0.8674 - accuracy: 0.7138 - val_loss: 1.1097 - val_accuracy: 0.6377 - lr: 2.5000e-04\n",
            "Epoch 58/200\n",
            "9/9 [==============================] - 6s 635ms/step - loss: 0.8325 - accuracy: 0.6890 - val_loss: 1.1865 - val_accuracy: 0.5942 - lr: 2.5000e-04\n",
            "Epoch 59/200\n",
            "9/9 [==============================] - 6s 634ms/step - loss: 0.8422 - accuracy: 0.7279 - val_loss: 1.1571 - val_accuracy: 0.6232 - lr: 2.5000e-04\n",
            "Epoch 60/200\n",
            "9/9 [==============================] - 6s 642ms/step - loss: 0.8373 - accuracy: 0.7067 - val_loss: 1.1770 - val_accuracy: 0.6232 - lr: 2.5000e-04\n",
            "Epoch 61/200\n",
            "9/9 [==============================] - 6s 634ms/step - loss: 0.8457 - accuracy: 0.7173 - val_loss: 1.0899 - val_accuracy: 0.6232 - lr: 2.5000e-04\n",
            "Epoch 62/200\n",
            "9/9 [==============================] - 6s 645ms/step - loss: 0.8393 - accuracy: 0.7385 - val_loss: 1.0911 - val_accuracy: 0.6667 - lr: 2.5000e-04\n",
            "Epoch 63/200\n",
            "9/9 [==============================] - 6s 650ms/step - loss: 0.8134 - accuracy: 0.7138 - val_loss: 1.0359 - val_accuracy: 0.6232 - lr: 2.5000e-04\n",
            "Epoch 64/200\n",
            "9/9 [==============================] - 6s 636ms/step - loss: 0.8818 - accuracy: 0.6855 - val_loss: 1.0986 - val_accuracy: 0.5942 - lr: 2.5000e-04\n",
            "Epoch 65/200\n",
            "9/9 [==============================] - 6s 637ms/step - loss: 0.8346 - accuracy: 0.6855 - val_loss: 1.0675 - val_accuracy: 0.5942 - lr: 2.5000e-04\n",
            "Epoch 66/200\n",
            "9/9 [==============================] - 6s 635ms/step - loss: 0.8304 - accuracy: 0.6961 - val_loss: 1.0794 - val_accuracy: 0.6812 - lr: 2.5000e-04\n",
            "Epoch 67/200\n",
            "9/9 [==============================] - 6s 638ms/step - loss: 0.8537 - accuracy: 0.7102 - val_loss: 1.1545 - val_accuracy: 0.5942 - lr: 2.5000e-04\n",
            "Epoch 68/200\n",
            "9/9 [==============================] - 6s 648ms/step - loss: 0.8247 - accuracy: 0.7138 - val_loss: 1.0371 - val_accuracy: 0.6667 - lr: 2.5000e-04\n",
            "Epoch 69/200\n",
            "9/9 [==============================] - 6s 644ms/step - loss: 0.8263 - accuracy: 0.7138 - val_loss: 1.1304 - val_accuracy: 0.6522 - lr: 2.5000e-04\n",
            "Epoch 70/200\n",
            "9/9 [==============================] - 6s 647ms/step - loss: 0.8569 - accuracy: 0.6820 - val_loss: 1.0189 - val_accuracy: 0.6667 - lr: 2.5000e-04\n",
            "Epoch 71/200\n",
            "9/9 [==============================] - 6s 634ms/step - loss: 0.8390 - accuracy: 0.7067 - val_loss: 1.0175 - val_accuracy: 0.6232 - lr: 2.5000e-04\n",
            "Epoch 72/200\n",
            "9/9 [==============================] - 6s 644ms/step - loss: 0.8453 - accuracy: 0.6820 - val_loss: 1.0548 - val_accuracy: 0.6812 - lr: 2.5000e-04\n",
            "Epoch 73/200\n",
            "9/9 [==============================] - 6s 633ms/step - loss: 0.7827 - accuracy: 0.7491 - val_loss: 1.1051 - val_accuracy: 0.6087 - lr: 2.5000e-04\n",
            "Epoch 74/200\n",
            "9/9 [==============================] - 6s 639ms/step - loss: 0.7474 - accuracy: 0.7562 - val_loss: 1.0589 - val_accuracy: 0.5942 - lr: 2.5000e-04\n",
            "Epoch 75/200\n",
            "9/9 [==============================] - 6s 633ms/step - loss: 0.7941 - accuracy: 0.7173 - val_loss: 1.0587 - val_accuracy: 0.6232 - lr: 2.5000e-04\n",
            "Epoch 76/200\n",
            "9/9 [==============================] - 6s 649ms/step - loss: 0.7792 - accuracy: 0.7314 - val_loss: 1.0711 - val_accuracy: 0.6667 - lr: 1.2500e-04\n",
            "Epoch 77/200\n",
            "9/9 [==============================] - 6s 638ms/step - loss: 0.7883 - accuracy: 0.7208 - val_loss: 1.0882 - val_accuracy: 0.6377 - lr: 1.2500e-04\n",
            "Epoch 78/200\n",
            "9/9 [==============================] - 6s 634ms/step - loss: 0.7328 - accuracy: 0.7668 - val_loss: 1.0400 - val_accuracy: 0.6812 - lr: 1.2500e-04\n",
            "Epoch 79/200\n",
            "9/9 [==============================] - 6s 643ms/step - loss: 0.7792 - accuracy: 0.7279 - val_loss: 1.0063 - val_accuracy: 0.6957 - lr: 1.2500e-04\n",
            "Epoch 80/200\n",
            "9/9 [==============================] - 6s 650ms/step - loss: 0.7865 - accuracy: 0.6996 - val_loss: 1.1984 - val_accuracy: 0.5942 - lr: 1.2500e-04\n",
            "Epoch 81/200\n",
            "9/9 [==============================] - 6s 642ms/step - loss: 0.7675 - accuracy: 0.7491 - val_loss: 1.1202 - val_accuracy: 0.6232 - lr: 1.2500e-04\n",
            "Epoch 82/200\n",
            "9/9 [==============================] - 6s 634ms/step - loss: 0.7706 - accuracy: 0.7491 - val_loss: 0.9466 - val_accuracy: 0.6812 - lr: 1.2500e-04\n",
            "Epoch 83/200\n",
            "9/9 [==============================] - 6s 643ms/step - loss: 0.7551 - accuracy: 0.7456 - val_loss: 1.0217 - val_accuracy: 0.6232 - lr: 1.2500e-04\n",
            "Epoch 84/200\n",
            "9/9 [==============================] - 6s 638ms/step - loss: 0.7995 - accuracy: 0.7208 - val_loss: 0.9781 - val_accuracy: 0.7101 - lr: 1.2500e-04\n",
            "Epoch 85/200\n",
            "9/9 [==============================] - 6s 645ms/step - loss: 0.7534 - accuracy: 0.7385 - val_loss: 1.0378 - val_accuracy: 0.6377 - lr: 1.2500e-04\n",
            "Epoch 86/200\n",
            "9/9 [==============================] - 6s 662ms/step - loss: 0.7635 - accuracy: 0.7208 - val_loss: 1.1082 - val_accuracy: 0.6232 - lr: 1.2500e-04\n",
            "Epoch 87/200\n",
            "9/9 [==============================] - 6s 666ms/step - loss: 0.7085 - accuracy: 0.7809 - val_loss: 1.0307 - val_accuracy: 0.6377 - lr: 1.2500e-04\n",
            "Epoch 88/200\n",
            "9/9 [==============================] - 6s 646ms/step - loss: 0.7584 - accuracy: 0.7420 - val_loss: 1.0512 - val_accuracy: 0.6377 - lr: 1.2500e-04\n",
            "Epoch 89/200\n",
            "9/9 [==============================] - 6s 636ms/step - loss: 0.8476 - accuracy: 0.6820 - val_loss: 1.0273 - val_accuracy: 0.6812 - lr: 1.2500e-04\n",
            "Epoch 90/200\n",
            "9/9 [==============================] - 6s 639ms/step - loss: 0.7883 - accuracy: 0.7385 - val_loss: 0.9409 - val_accuracy: 0.6667 - lr: 1.2500e-04\n",
            "Epoch 91/200\n",
            "9/9 [==============================] - 6s 637ms/step - loss: 0.7143 - accuracy: 0.7562 - val_loss: 1.0315 - val_accuracy: 0.6232 - lr: 1.2500e-04\n",
            "Epoch 92/200\n",
            "9/9 [==============================] - 6s 640ms/step - loss: 0.7616 - accuracy: 0.7244 - val_loss: 1.0345 - val_accuracy: 0.6667 - lr: 1.2500e-04\n",
            "Epoch 93/200\n",
            "9/9 [==============================] - 6s 636ms/step - loss: 0.7904 - accuracy: 0.7138 - val_loss: 0.9932 - val_accuracy: 0.6812 - lr: 1.2500e-04\n",
            "Epoch 94/200\n",
            "9/9 [==============================] - 6s 641ms/step - loss: 0.7888 - accuracy: 0.7173 - val_loss: 1.0176 - val_accuracy: 0.6232 - lr: 1.2500e-04\n",
            "Epoch 95/200\n",
            "9/9 [==============================] - 6s 629ms/step - loss: 0.7221 - accuracy: 0.7986 - val_loss: 1.0728 - val_accuracy: 0.6087 - lr: 1.2500e-04\n",
            "Epoch 96/200\n",
            "9/9 [==============================] - 6s 640ms/step - loss: 0.7352 - accuracy: 0.7456 - val_loss: 1.0274 - val_accuracy: 0.6812 - lr: 1.2500e-04\n",
            "Epoch 97/200\n",
            "9/9 [==============================] - 6s 633ms/step - loss: 0.7301 - accuracy: 0.7527 - val_loss: 1.0866 - val_accuracy: 0.6522 - lr: 1.2500e-04\n",
            "Epoch 98/200\n",
            "9/9 [==============================] - 6s 643ms/step - loss: 0.6807 - accuracy: 0.7597 - val_loss: 1.0656 - val_accuracy: 0.6377 - lr: 1.2500e-04\n",
            "Epoch 99/200\n",
            "9/9 [==============================] - 6s 639ms/step - loss: 0.7268 - accuracy: 0.7845 - val_loss: 1.0274 - val_accuracy: 0.6232 - lr: 1.2500e-04\n",
            "Epoch 100/200\n",
            "9/9 [==============================] - 6s 645ms/step - loss: 0.7348 - accuracy: 0.7350 - val_loss: 1.0516 - val_accuracy: 0.6087 - lr: 1.2500e-04\n",
            "Epoch 101/200\n",
            "9/9 [==============================] - 6s 632ms/step - loss: 0.7380 - accuracy: 0.7420 - val_loss: 1.0145 - val_accuracy: 0.6232 - lr: 6.2500e-05\n",
            "Epoch 102/200\n",
            "9/9 [==============================] - 6s 634ms/step - loss: 0.7125 - accuracy: 0.7597 - val_loss: 0.9798 - val_accuracy: 0.6522 - lr: 6.2500e-05\n",
            "Epoch 103/200\n",
            "9/9 [==============================] - 6s 651ms/step - loss: 0.7204 - accuracy: 0.7845 - val_loss: 1.0257 - val_accuracy: 0.6522 - lr: 6.2500e-05\n",
            "Epoch 104/200\n",
            "9/9 [==============================] - 6s 639ms/step - loss: 0.7053 - accuracy: 0.7880 - val_loss: 1.0549 - val_accuracy: 0.6377 - lr: 6.2500e-05\n",
            "Epoch 105/200\n",
            "9/9 [==============================] - 6s 643ms/step - loss: 0.7218 - accuracy: 0.7597 - val_loss: 0.9006 - val_accuracy: 0.6812 - lr: 6.2500e-05\n",
            "Epoch 106/200\n",
            "9/9 [==============================] - 6s 639ms/step - loss: 0.7347 - accuracy: 0.7597 - val_loss: 1.0060 - val_accuracy: 0.6667 - lr: 6.2500e-05\n",
            "Epoch 107/200\n",
            "9/9 [==============================] - 6s 641ms/step - loss: 0.7206 - accuracy: 0.7562 - val_loss: 1.0434 - val_accuracy: 0.6812 - lr: 6.2500e-05\n",
            "Epoch 108/200\n",
            "9/9 [==============================] - 6s 642ms/step - loss: 0.7615 - accuracy: 0.7350 - val_loss: 1.0213 - val_accuracy: 0.6957 - lr: 6.2500e-05\n",
            "Epoch 109/200\n",
            "9/9 [==============================] - 6s 641ms/step - loss: 0.6587 - accuracy: 0.7951 - val_loss: 1.0058 - val_accuracy: 0.6812 - lr: 6.2500e-05\n",
            "Epoch 110/200\n",
            "9/9 [==============================] - 6s 652ms/step - loss: 0.6857 - accuracy: 0.7456 - val_loss: 0.9527 - val_accuracy: 0.6812 - lr: 6.2500e-05\n",
            "Epoch 111/200\n",
            "9/9 [==============================] - 6s 639ms/step - loss: 0.6930 - accuracy: 0.7668 - val_loss: 1.0727 - val_accuracy: 0.6522 - lr: 6.2500e-05\n",
            "Epoch 112/200\n",
            "9/9 [==============================] - 6s 635ms/step - loss: 0.7209 - accuracy: 0.7739 - val_loss: 1.0499 - val_accuracy: 0.6522 - lr: 6.2500e-05\n",
            "Epoch 113/200\n",
            "9/9 [==============================] - 6s 643ms/step - loss: 0.7216 - accuracy: 0.7491 - val_loss: 0.9911 - val_accuracy: 0.6812 - lr: 6.2500e-05\n",
            "Epoch 114/200\n",
            "9/9 [==============================] - 6s 637ms/step - loss: 0.7268 - accuracy: 0.7456 - val_loss: 0.9460 - val_accuracy: 0.6667 - lr: 6.2500e-05\n",
            "Epoch 115/200\n",
            "9/9 [==============================] - 6s 645ms/step - loss: 0.7057 - accuracy: 0.7420 - val_loss: 0.9171 - val_accuracy: 0.6667 - lr: 6.2500e-05\n",
            "Epoch 116/200\n",
            "9/9 [==============================] - 6s 636ms/step - loss: 0.7314 - accuracy: 0.7279 - val_loss: 0.9864 - val_accuracy: 0.6812 - lr: 6.2500e-05\n",
            "Epoch 117/200\n",
            "9/9 [==============================] - 6s 635ms/step - loss: 0.7331 - accuracy: 0.7491 - val_loss: 1.0575 - val_accuracy: 0.6377 - lr: 6.2500e-05\n",
            "Epoch 118/200\n",
            "9/9 [==============================] - 6s 634ms/step - loss: 0.6847 - accuracy: 0.7703 - val_loss: 0.9958 - val_accuracy: 0.7101 - lr: 6.2500e-05\n",
            "Epoch 119/200\n",
            "9/9 [==============================] - 6s 637ms/step - loss: 0.7598 - accuracy: 0.7420 - val_loss: 1.0060 - val_accuracy: 0.6667 - lr: 6.2500e-05\n",
            "Epoch 120/200\n",
            "9/9 [==============================] - 6s 632ms/step - loss: 0.6641 - accuracy: 0.7703 - val_loss: 0.9230 - val_accuracy: 0.6812 - lr: 6.2500e-05\n",
            "Epoch 121/200\n",
            "9/9 [==============================] - 6s 637ms/step - loss: 0.7202 - accuracy: 0.7420 - val_loss: 0.9459 - val_accuracy: 0.7101 - lr: 6.2500e-05\n",
            "Epoch 122/200\n",
            "9/9 [==============================] - 6s 637ms/step - loss: 0.7436 - accuracy: 0.7350 - val_loss: 0.9188 - val_accuracy: 0.6812 - lr: 6.2500e-05\n",
            "Epoch 123/200\n",
            "9/9 [==============================] - 6s 645ms/step - loss: 0.7596 - accuracy: 0.7562 - val_loss: 1.0781 - val_accuracy: 0.6667 - lr: 6.2500e-05\n",
            "Epoch 124/200\n",
            "9/9 [==============================] - 6s 635ms/step - loss: 0.7002 - accuracy: 0.7597 - val_loss: 1.0386 - val_accuracy: 0.6522 - lr: 6.2500e-05\n",
            "Epoch 125/200\n",
            "9/9 [==============================] - 6s 641ms/step - loss: 0.7476 - accuracy: 0.7208 - val_loss: 0.9730 - val_accuracy: 0.6812 - lr: 6.2500e-05\n",
            "Epoch 126/200\n",
            "9/9 [==============================] - 6s 643ms/step - loss: 0.7246 - accuracy: 0.7703 - val_loss: 1.0900 - val_accuracy: 0.6377 - lr: 3.1250e-05\n",
            "Epoch 127/200\n",
            "9/9 [==============================] - 6s 635ms/step - loss: 0.7154 - accuracy: 0.7562 - val_loss: 1.0263 - val_accuracy: 0.6232 - lr: 3.1250e-05\n",
            "Epoch 128/200\n",
            "9/9 [==============================] - 6s 640ms/step - loss: 0.6716 - accuracy: 0.7562 - val_loss: 0.9928 - val_accuracy: 0.6812 - lr: 3.1250e-05\n",
            "Epoch 129/200\n",
            "9/9 [==============================] - 6s 633ms/step - loss: 0.7260 - accuracy: 0.7562 - val_loss: 0.9491 - val_accuracy: 0.7101 - lr: 3.1250e-05\n",
            "Epoch 130/200\n",
            "9/9 [==============================] - 6s 648ms/step - loss: 0.6726 - accuracy: 0.7880 - val_loss: 1.0011 - val_accuracy: 0.6377 - lr: 3.1250e-05\n",
            "Epoch 131/200\n",
            "9/9 [==============================] - 6s 632ms/step - loss: 0.6796 - accuracy: 0.7456 - val_loss: 0.9977 - val_accuracy: 0.6232 - lr: 3.1250e-05\n",
            "Epoch 132/200\n",
            "9/9 [==============================] - 6s 637ms/step - loss: 0.7246 - accuracy: 0.7668 - val_loss: 0.9366 - val_accuracy: 0.6812 - lr: 3.1250e-05\n",
            "Epoch 133/200\n",
            "9/9 [==============================] - 6s 638ms/step - loss: 0.6867 - accuracy: 0.7809 - val_loss: 0.9890 - val_accuracy: 0.6957 - lr: 3.1250e-05\n",
            "Epoch 134/200\n",
            "9/9 [==============================] - 6s 631ms/step - loss: 0.7498 - accuracy: 0.7067 - val_loss: 0.9519 - val_accuracy: 0.7101 - lr: 3.1250e-05\n",
            "Epoch 135/200\n",
            "9/9 [==============================] - 6s 636ms/step - loss: 0.7212 - accuracy: 0.7527 - val_loss: 1.0145 - val_accuracy: 0.6232 - lr: 3.1250e-05\n",
            "Epoch 136/200\n",
            "9/9 [==============================] - 6s 632ms/step - loss: 0.6570 - accuracy: 0.8057 - val_loss: 1.0101 - val_accuracy: 0.6377 - lr: 3.1250e-05\n",
            "Epoch 137/200\n",
            "9/9 [==============================] - 6s 634ms/step - loss: 0.6653 - accuracy: 0.7633 - val_loss: 0.8869 - val_accuracy: 0.6812 - lr: 3.1250e-05\n",
            "Epoch 138/200\n",
            "9/9 [==============================] - 6s 640ms/step - loss: 0.6969 - accuracy: 0.7774 - val_loss: 0.9890 - val_accuracy: 0.6522 - lr: 3.1250e-05\n",
            "Epoch 139/200\n",
            "9/9 [==============================] - 6s 675ms/step - loss: 0.6697 - accuracy: 0.7809 - val_loss: 0.9839 - val_accuracy: 0.6957 - lr: 3.1250e-05\n",
            "Epoch 140/200\n",
            "9/9 [==============================] - 6s 665ms/step - loss: 0.6727 - accuracy: 0.7703 - val_loss: 0.9236 - val_accuracy: 0.6377 - lr: 3.1250e-05\n",
            "Epoch 141/200\n",
            "9/9 [==============================] - 6s 665ms/step - loss: 0.7174 - accuracy: 0.7314 - val_loss: 0.9508 - val_accuracy: 0.6957 - lr: 3.1250e-05\n",
            "Epoch 142/200\n",
            "9/9 [==============================] - 6s 636ms/step - loss: 0.6953 - accuracy: 0.7527 - val_loss: 1.1004 - val_accuracy: 0.6377 - lr: 3.1250e-05\n",
            "Epoch 143/200\n",
            "9/9 [==============================] - 6s 630ms/step - loss: 0.6444 - accuracy: 0.7880 - val_loss: 0.9552 - val_accuracy: 0.7246 - lr: 3.1250e-05\n",
            "Epoch 144/200\n",
            "9/9 [==============================] - 6s 634ms/step - loss: 0.6311 - accuracy: 0.7809 - val_loss: 1.0160 - val_accuracy: 0.6377 - lr: 3.1250e-05\n",
            "Epoch 145/200\n",
            "9/9 [==============================] - 6s 636ms/step - loss: 0.6975 - accuracy: 0.7633 - val_loss: 1.0130 - val_accuracy: 0.6377 - lr: 3.1250e-05\n",
            "Epoch 146/200\n",
            "9/9 [==============================] - 6s 641ms/step - loss: 0.7126 - accuracy: 0.7597 - val_loss: 0.9327 - val_accuracy: 0.6667 - lr: 3.1250e-05\n",
            "Epoch 147/200\n",
            "9/9 [==============================] - 6s 639ms/step - loss: 0.7075 - accuracy: 0.7633 - val_loss: 0.9404 - val_accuracy: 0.6812 - lr: 3.1250e-05\n",
            "Epoch 148/200\n",
            "9/9 [==============================] - 6s 635ms/step - loss: 0.6996 - accuracy: 0.7562 - val_loss: 0.8266 - val_accuracy: 0.7391 - lr: 3.1250e-05\n",
            "Epoch 149/200\n",
            "9/9 [==============================] - 6s 635ms/step - loss: 0.7287 - accuracy: 0.7456 - val_loss: 0.9811 - val_accuracy: 0.6522 - lr: 3.1250e-05\n",
            "Epoch 150/200\n",
            "9/9 [==============================] - 6s 636ms/step - loss: 0.6803 - accuracy: 0.7562 - val_loss: 0.9702 - val_accuracy: 0.6812 - lr: 3.1250e-05\n",
            "Epoch 151/200\n",
            "9/9 [==============================] - 6s 636ms/step - loss: 0.6880 - accuracy: 0.7562 - val_loss: 1.0478 - val_accuracy: 0.6522 - lr: 1.5625e-05\n",
            "Epoch 152/200\n",
            "9/9 [==============================] - 6s 646ms/step - loss: 0.7054 - accuracy: 0.7456 - val_loss: 1.0195 - val_accuracy: 0.6667 - lr: 1.5625e-05\n",
            "Epoch 153/200\n",
            "9/9 [==============================] - 6s 633ms/step - loss: 0.6943 - accuracy: 0.7597 - val_loss: 0.9462 - val_accuracy: 0.6377 - lr: 1.5625e-05\n",
            "Epoch 154/200\n",
            "9/9 [==============================] - 6s 637ms/step - loss: 0.6605 - accuracy: 0.7774 - val_loss: 0.9865 - val_accuracy: 0.6957 - lr: 1.5625e-05\n",
            "Epoch 155/200\n",
            "9/9 [==============================] - 6s 644ms/step - loss: 0.7249 - accuracy: 0.7491 - val_loss: 1.0899 - val_accuracy: 0.6957 - lr: 1.5625e-05\n",
            "Epoch 156/200\n",
            "9/9 [==============================] - 6s 639ms/step - loss: 0.7119 - accuracy: 0.7562 - val_loss: 0.9609 - val_accuracy: 0.6957 - lr: 1.5625e-05\n",
            "Epoch 157/200\n",
            "9/9 [==============================] - 6s 640ms/step - loss: 0.6628 - accuracy: 0.7668 - val_loss: 1.1298 - val_accuracy: 0.6522 - lr: 1.5625e-05\n",
            "Epoch 158/200\n",
            "9/9 [==============================] - 6s 639ms/step - loss: 0.6598 - accuracy: 0.7915 - val_loss: 0.9552 - val_accuracy: 0.6667 - lr: 1.5625e-05\n",
            "Epoch 159/200\n",
            "9/9 [==============================] - 6s 643ms/step - loss: 0.6713 - accuracy: 0.8092 - val_loss: 0.9828 - val_accuracy: 0.7101 - lr: 1.5625e-05\n",
            "Epoch 160/200\n",
            "9/9 [==============================] - 6s 654ms/step - loss: 0.6675 - accuracy: 0.7668 - val_loss: 0.9431 - val_accuracy: 0.6522 - lr: 1.5625e-05\n",
            "Epoch 161/200\n",
            "9/9 [==============================] - 6s 633ms/step - loss: 0.6786 - accuracy: 0.7527 - val_loss: 0.9561 - val_accuracy: 0.6812 - lr: 1.5625e-05\n",
            "Epoch 162/200\n",
            "9/9 [==============================] - 6s 645ms/step - loss: 0.6721 - accuracy: 0.7703 - val_loss: 1.0749 - val_accuracy: 0.6522 - lr: 1.5625e-05\n",
            "Epoch 163/200\n",
            "9/9 [==============================] - 6s 641ms/step - loss: 0.6982 - accuracy: 0.7597 - val_loss: 1.0648 - val_accuracy: 0.6522 - lr: 1.5625e-05\n",
            "Epoch 164/200\n",
            "9/9 [==============================] - 6s 647ms/step - loss: 0.7159 - accuracy: 0.7597 - val_loss: 1.0508 - val_accuracy: 0.6667 - lr: 1.5625e-05\n",
            "Epoch 165/200\n",
            "9/9 [==============================] - 6s 631ms/step - loss: 0.6591 - accuracy: 0.7809 - val_loss: 1.0987 - val_accuracy: 0.6377 - lr: 1.5625e-05\n",
            "Epoch 166/200\n",
            "9/9 [==============================] - 6s 638ms/step - loss: 0.7164 - accuracy: 0.7208 - val_loss: 0.9305 - val_accuracy: 0.6232 - lr: 1.5625e-05\n",
            "Epoch 167/200\n",
            "9/9 [==============================] - 6s 640ms/step - loss: 0.6835 - accuracy: 0.7633 - val_loss: 0.8722 - val_accuracy: 0.7101 - lr: 1.5625e-05\n",
            "Epoch 168/200\n",
            "9/9 [==============================] - 6s 642ms/step - loss: 0.6378 - accuracy: 0.7915 - val_loss: 0.9344 - val_accuracy: 0.6812 - lr: 1.5625e-05\n",
            "Epoch 169/200\n",
            "9/9 [==============================] - 6s 640ms/step - loss: 0.6601 - accuracy: 0.7845 - val_loss: 0.9837 - val_accuracy: 0.6522 - lr: 1.5625e-05\n",
            "Epoch 170/200\n",
            "9/9 [==============================] - 6s 633ms/step - loss: 0.6420 - accuracy: 0.7668 - val_loss: 1.0823 - val_accuracy: 0.6667 - lr: 1.5625e-05\n",
            "Epoch 171/200\n",
            "9/9 [==============================] - 6s 636ms/step - loss: 0.6410 - accuracy: 0.7845 - val_loss: 0.9701 - val_accuracy: 0.6812 - lr: 1.5625e-05\n",
            "Epoch 172/200\n",
            "9/9 [==============================] - 6s 647ms/step - loss: 0.6917 - accuracy: 0.7350 - val_loss: 1.0419 - val_accuracy: 0.6957 - lr: 1.5625e-05\n",
            "Epoch 173/200\n",
            "9/9 [==============================] - 6s 644ms/step - loss: 0.6775 - accuracy: 0.7491 - val_loss: 0.9955 - val_accuracy: 0.6232 - lr: 1.5625e-05\n",
            "Epoch 174/200\n",
            "9/9 [==============================] - 6s 634ms/step - loss: 0.6608 - accuracy: 0.7951 - val_loss: 1.0178 - val_accuracy: 0.6377 - lr: 1.5625e-05\n",
            "Epoch 175/200\n",
            "9/9 [==============================] - 6s 642ms/step - loss: 0.6746 - accuracy: 0.7456 - val_loss: 1.1343 - val_accuracy: 0.6377 - lr: 1.5625e-05\n",
            "Epoch 176/200\n",
            "9/9 [==============================] - 6s 638ms/step - loss: 0.6928 - accuracy: 0.7491 - val_loss: 1.0147 - val_accuracy: 0.6957 - lr: 7.8125e-06\n",
            "Epoch 177/200\n",
            "9/9 [==============================] - 6s 644ms/step - loss: 0.6794 - accuracy: 0.7845 - val_loss: 1.0370 - val_accuracy: 0.6522 - lr: 7.8125e-06\n",
            "Epoch 178/200\n",
            "9/9 [==============================] - 6s 640ms/step - loss: 0.6534 - accuracy: 0.7597 - val_loss: 0.9558 - val_accuracy: 0.6957 - lr: 7.8125e-06\n",
            "Epoch 179/200\n",
            "9/9 [==============================] - 6s 644ms/step - loss: 0.6558 - accuracy: 0.7703 - val_loss: 1.1467 - val_accuracy: 0.6087 - lr: 7.8125e-06\n",
            "Epoch 180/200\n",
            "9/9 [==============================] - 7s 780ms/step - loss: 0.6691 - accuracy: 0.7845 - val_loss: 1.0666 - val_accuracy: 0.6377 - lr: 7.8125e-06\n",
            "Epoch 181/200\n",
            "9/9 [==============================] - 6s 639ms/step - loss: 0.6712 - accuracy: 0.7845 - val_loss: 0.9827 - val_accuracy: 0.6812 - lr: 7.8125e-06\n",
            "Epoch 182/200\n",
            "9/9 [==============================] - 6s 638ms/step - loss: 0.7374 - accuracy: 0.7562 - val_loss: 1.0780 - val_accuracy: 0.6812 - lr: 7.8125e-06\n",
            "Epoch 183/200\n",
            "9/9 [==============================] - 6s 626ms/step - loss: 0.6397 - accuracy: 0.7880 - val_loss: 0.9370 - val_accuracy: 0.6812 - lr: 7.8125e-06\n",
            "Epoch 184/200\n",
            "9/9 [==============================] - 6s 644ms/step - loss: 0.6351 - accuracy: 0.8092 - val_loss: 0.9741 - val_accuracy: 0.7101 - lr: 7.8125e-06\n",
            "Epoch 185/200\n",
            "9/9 [==============================] - 6s 639ms/step - loss: 0.6884 - accuracy: 0.7633 - val_loss: 1.0364 - val_accuracy: 0.6667 - lr: 7.8125e-06\n",
            "Epoch 186/200\n",
            "9/9 [==============================] - 6s 643ms/step - loss: 0.7170 - accuracy: 0.7279 - val_loss: 1.0260 - val_accuracy: 0.6812 - lr: 7.8125e-06\n",
            "Epoch 187/200\n",
            "9/9 [==============================] - 6s 634ms/step - loss: 0.6843 - accuracy: 0.7633 - val_loss: 0.9285 - val_accuracy: 0.6812 - lr: 7.8125e-06\n",
            "Epoch 188/200\n",
            "9/9 [==============================] - 6s 639ms/step - loss: 0.6800 - accuracy: 0.7739 - val_loss: 1.1427 - val_accuracy: 0.5797 - lr: 7.8125e-06\n",
            "Epoch 189/200\n",
            "9/9 [==============================] - 6s 641ms/step - loss: 0.6794 - accuracy: 0.7456 - val_loss: 1.0336 - val_accuracy: 0.6522 - lr: 7.8125e-06\n",
            "Epoch 190/200\n",
            "9/9 [==============================] - 6s 656ms/step - loss: 0.6762 - accuracy: 0.7986 - val_loss: 0.8671 - val_accuracy: 0.6812 - lr: 7.8125e-06\n",
            "Epoch 191/200\n",
            "9/9 [==============================] - 6s 672ms/step - loss: 0.6414 - accuracy: 0.7668 - val_loss: 1.0331 - val_accuracy: 0.6957 - lr: 7.8125e-06\n",
            "Epoch 192/200\n",
            "9/9 [==============================] - 6s 652ms/step - loss: 0.7116 - accuracy: 0.7456 - val_loss: 0.9894 - val_accuracy: 0.6667 - lr: 7.8125e-06\n",
            "Epoch 193/200\n",
            "9/9 [==============================] - 6s 629ms/step - loss: 0.6562 - accuracy: 0.7633 - val_loss: 0.9337 - val_accuracy: 0.7246 - lr: 7.8125e-06\n",
            "Epoch 194/200\n",
            "9/9 [==============================] - 6s 640ms/step - loss: 0.6854 - accuracy: 0.7739 - val_loss: 1.0922 - val_accuracy: 0.6667 - lr: 7.8125e-06\n",
            "Epoch 195/200\n",
            "9/9 [==============================] - 6s 642ms/step - loss: 0.6080 - accuracy: 0.8092 - val_loss: 0.9654 - val_accuracy: 0.6667 - lr: 7.8125e-06\n",
            "Epoch 196/200\n",
            "9/9 [==============================] - 6s 638ms/step - loss: 0.6721 - accuracy: 0.7633 - val_loss: 1.0558 - val_accuracy: 0.6957 - lr: 7.8125e-06\n",
            "Epoch 197/200\n",
            "9/9 [==============================] - 6s 628ms/step - loss: 0.6999 - accuracy: 0.7491 - val_loss: 0.9422 - val_accuracy: 0.6957 - lr: 7.8125e-06\n",
            "Epoch 198/200\n",
            "9/9 [==============================] - 6s 632ms/step - loss: 0.6710 - accuracy: 0.7809 - val_loss: 0.8841 - val_accuracy: 0.6957 - lr: 7.8125e-06\n",
            "Epoch 199/200\n",
            "9/9 [==============================] - 6s 647ms/step - loss: 0.6828 - accuracy: 0.7668 - val_loss: 1.0162 - val_accuracy: 0.6522 - lr: 7.8125e-06\n",
            "Epoch 200/200\n",
            "9/9 [==============================] - 6s 636ms/step - loss: 0.7179 - accuracy: 0.7668 - val_loss: 1.0052 - val_accuracy: 0.6667 - lr: 7.8125e-06\n"
          ]
        }
      ]
    },
    {
      "cell_type": "markdown",
      "source": [
        "## Plotting the curves"
      ],
      "metadata": {
        "id": "2PLow3u6DPtE"
      }
    },
    {
      "cell_type": "code",
      "metadata": {
        "colab": {
          "base_uri": "https://localhost:8080/",
          "height": 562
        },
        "id": "fwNTm8W5F-2N",
        "outputId": "e5e0b33a-4c36-42ac-da6a-c3cceb401524"
      },
      "source": [
        "import matplotlib.pyplot as plt\n",
        "\n",
        "acc      = history.history[ 'accuracy' ]\n",
        "val_acc  = history.history[ 'val_accuracy' ]\n",
        "loss     = history.history[ 'loss' ]\n",
        "val_loss = history.history['val_loss' ]\n",
        "\n",
        "epochs   = range(len(acc)) # Get number of epochs\n",
        "\n",
        "#------------------------------------------------\n",
        "# Plot training and validation accuracy per epoch\n",
        "#------------------------------------------------\n",
        "plt.plot( epochs, acc )\n",
        "plt.plot( epochs, val_acc )\n",
        "plt.title('Training and validation accuracy')\n",
        "plt.figure()\n",
        "\n",
        "#------------------------------------------------\n",
        "# Plot training and validation loss per epoch\n",
        "#------------------------------------------------\n",
        "plt.plot  ( epochs,     loss )\n",
        "plt.plot  ( epochs, val_loss )\n",
        "plt.title ('Training and validation loss'   )"
      ],
      "execution_count": 15,
      "outputs": [
        {
          "output_type": "execute_result",
          "data": {
            "text/plain": [
              "Text(0.5, 1.0, 'Training and validation loss')"
            ]
          },
          "metadata": {},
          "execution_count": 15
        },
        {
          "output_type": "display_data",
          "data": {
            "text/plain": [
              "<Figure size 432x288 with 1 Axes>"
            ],
            "image/png": "[encoded data removed]"
          },
          "metadata": {
            "needs_background": "light"
          }
        },
        {
          "output_type": "display_data",
          "data": {
            "text/plain": [
              "<Figure size 432x288 with 1 Axes>"
            ],
            "image/png": "[encoded data removed]"
          },
          "metadata": {
            "needs_background": "light"
          }
        }
      ]
    },
    {
      "cell_type": "code",
      "metadata": {
        "colab": {
          "base_uri": "https://localhost:8080/"
        },
        "id": "iI-PHDnsF-5P",
        "outputId": "ea70ab1c-79c9-4512-cb6e-a13b4fe7413a"
      },
      "source": [
        "train_generator.class_indices"
      ],
      "execution_count": 16,
      "outputs": [
        {
          "output_type": "execute_result",
          "data": {
            "text/plain": [
              "{'bharatanatyam': 0,\n",
              " 'kathak': 1,\n",
              " 'kathakali': 2,\n",
              " 'kuchipudi': 3,\n",
              " 'manipuri': 4,\n",
              " 'mohiniyattam': 5,\n",
              " 'odissi': 6,\n",
              " 'sattriya': 7}"
            ]
          },
          "metadata": {},
          "execution_count": 16
        }
      ]
    },
    {
      "cell_type": "code",
      "metadata": {
        "colab": {
          "base_uri": "https://localhost:8080/"
        },
        "id": "ruudcAWCUXNp",
        "outputId": "2247367a-31c9-46d8-c7bc-15865965af87"
      },
      "source": [
        "ans={}\n",
        "for key in train_generator.class_indices.keys():\n",
        "  ans[train_generator.class_indices[key]]=key\n",
        "print(ans)"
      ],
      "execution_count": 17,
      "outputs": [
        {
          "output_type": "stream",
          "name": "stdout",
          "text": [
            "{0: 'bharatanatyam', 1: 'kathak', 2: 'kathakali', 3: 'kuchipudi', 4: 'manipuri', 5: 'mohiniyattam', 6: 'odissi', 7: 'sattriya'}\n"
          ]
        }
      ]
    },
    {
      "cell_type": "code",
      "metadata": {
        "colab": {
          "base_uri": "https://localhost:8080/"
        },
        "id": "VP9DhUWjTf2c",
        "outputId": "d13333e3-bcba-4238-aa97-e72275dad30c"
      },
      "source": [
        "model.evaluate(validation_generator)"
      ],
      "execution_count": 19,
      "outputs": [
        {
          "output_type": "stream",
          "name": "stdout",
          "text": [
            "3/3 [==============================] - 1s 275ms/step - loss: 1.0809 - accuracy: 0.6957\n"
          ]
        },
        {
          "output_type": "execute_result",
          "data": {
            "text/plain": [
              "[1.0808771848678589, 0.695652186870575]"
            ]
          },
          "metadata": {},
          "execution_count": 19
        }
      ]
    },
    {
      "cell_type": "code",
      "metadata": {
        "id": "KLHOfSfNTgZs"
      },
      "source": [
        ""
      ],
      "execution_count": null,
      "outputs": []
    }
  ]
}